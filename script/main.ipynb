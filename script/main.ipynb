{
 "cells": [
  {
   "cell_type": "code",
   "execution_count": 1,
   "metadata": {},
   "outputs": [
    {
     "name": "stdout",
     "output_type": "stream",
     "text": [
      "Welcome to JupyROOT 6.26/06\n"
     ]
    }
   ],
   "source": [
    "import os \n",
    "from os import path\n",
    "import numpy as np\n",
    "import pandas as pd\n",
    "import matplotlib.pyplot as plt\n",
    "import uproot\n",
    "import ROOT as root"
   ]
  },
  {
   "cell_type": "markdown",
   "metadata": {
    "vscode": {
     "languageId": "plaintext"
    }
   },
   "source": [
    "# 1. Check output ROOT file"
   ]
  },
  {
   "cell_type": "code",
   "execution_count": 2,
   "metadata": {},
   "outputs": [
    {
     "name": "stdout",
     "output_type": "stream",
     "text": [
      "projection_000.root : 3943.0\n",
      "projection_010.root : 3893.0\n",
      "projection_011.root : 3947.0\n",
      "projection_020.root : 3860.0\n",
      "projection_030.root : 3551.0\n",
      "projection_040.root : 3263.0\n",
      "projection_050.root : 3846.0\n",
      "projection_060.root : 3852.0\n",
      "projection_070.root : 3241.0\n",
      "projection_080.root : 3926.0\n",
      "projection_090.root : 3533.0\n"
     ]
    }
   ],
   "source": [
    "output_fs = os.listdir(\"../build/output/run_00000/\") \n",
    "output_path = \"../build/output/run_00000\"\n",
    "\n",
    "root_data = []\n",
    "output_fs.sort()\n",
    "\n",
    "for f_i, f in enumerate(output_fs):\n",
    "    root_data.append(uproot.open(path.join(output_path, f)))\n",
    "\n",
    "for d_i, d in enumerate(root_data):\n",
    "    print(f\"{output_fs[d_i]} : {sum(d['PosX0;1'].counts())}\")\n",
    "\n",
    "# root_data[0]['PosX0;1'].counts()\n"
   ]
  },
  {
   "cell_type": "code",
   "execution_count": 3,
   "metadata": {},
   "outputs": [],
   "source": [
    "root_data_0 = uproot.open(path.join(output_path, \"projection_000.root\"))"
   ]
  },
  {
   "cell_type": "code",
   "execution_count": 15,
   "metadata": {},
   "outputs": [],
   "source": [
    "t_root_data_0 = root_data_0.get('pCT')"
   ]
  },
  {
   "cell_type": "code",
   "execution_count": 16,
   "metadata": {},
   "outputs": [
    {
     "data": {
      "text/plain": [
       "[]"
      ]
     },
     "execution_count": 16,
     "metadata": {},
     "output_type": "execute_result"
    }
   ],
   "source": [
    "t_root_data_0['eventID'].values()"
   ]
  },
  {
   "cell_type": "code",
   "execution_count": 6,
   "metadata": {},
   "outputs": [],
   "source": [
    "root_data2 = uproot.open(\"/home/arnon/Playground/geant4/examples/basic/B4/B4a/build/B4.root\")\n",
    "root_data2 = root.TFile(\"/home/arnon/Playground/geant4/examples/basic/B4/B4a/build/B4.root\", \"READ\")"
   ]
  },
  {
   "cell_type": "code",
   "execution_count": 7,
   "metadata": {},
   "outputs": [],
   "source": [
    "tree = root_data2.Get('pCT;1')"
   ]
  },
  {
   "cell_type": "code",
   "execution_count": 8,
   "metadata": {},
   "outputs": [
    {
     "name": "stdout",
     "output_type": "stream",
     "text": [
      "<cppyy.gbl.TObject object at 0x(nil)>\n"
     ]
    }
   ],
   "source": [
    "print(tree)"
   ]
  },
  {
   "cell_type": "code",
   "execution_count": null,
   "metadata": {},
   "outputs": [],
   "source": []
  },
  {
   "cell_type": "code",
   "execution_count": null,
   "metadata": {},
   "outputs": [],
   "source": []
  }
 ],
 "metadata": {
  "kernelspec": {
   "display_name": "Python 3 (ipykernel)",
   "language": "python",
   "name": "python3"
  },
  "language_info": {
   "codemirror_mode": {
    "name": "ipython",
    "version": 3
   },
   "file_extension": ".py",
   "mimetype": "text/x-python",
   "name": "python",
   "nbconvert_exporter": "python",
   "pygments_lexer": "ipython3",
   "version": "3.10.12"
  }
 },
 "nbformat": 4,
 "nbformat_minor": 4
}
