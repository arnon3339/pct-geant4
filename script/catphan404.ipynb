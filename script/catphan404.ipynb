{
 "cells": [
  {
   "cell_type": "code",
   "execution_count": 32,
   "metadata": {},
   "outputs": [],
   "source": [
    "import pydicom\n",
    "import numpy as np\n",
    "import matplotlib.pyplot as plt\n",
    "from PIL import Image, ImageDraw\n",
    "from skimage.transform import resize\n",
    "import os\n",
    "import SimpleITK as sitk\n",
    "from array import array"
   ]
  },
  {
   "cell_type": "code",
   "execution_count": 2,
   "metadata": {},
   "outputs": [],
   "source": [
    "data_path = '/home/g0/Projects/singlechip-pct/GateContrib/imaging/CT/fixedForcedDetectionCT/data/'\n",
    "file_name = 'ICRP_AF.mhd'\n",
    "example_path = '/home/g0/Projects/singlechip-pct/phantom/mhd/example_data/'\n",
    "examples = ['chest_ct.mhd', 'chest_xray.mhd']"
   ]
  },
  {
   "cell_type": "code",
   "execution_count": 3,
   "metadata": {},
   "outputs": [],
   "source": [
    "im_size = (512, 512)"
   ]
  },
  {
   "cell_type": "code",
   "execution_count": 4,
   "metadata": {},
   "outputs": [],
   "source": [
    "\n",
    "phantom_data = {\n",
    "    \"catphan600\": {\n",
    "        \"edge\": {\n",
    "            \"R\": 0,\n",
    "            \"r\": 100, \"HU\": 1000\n",
    "        },\n",
    "        \"main\": {\n",
    "            \"R\": 0,\n",
    "            \"r\": 75, \"HU\": 1100\n",
    "        },\n",
    "        \"sen\":{\n",
    "            \"R\": 58, \"r\": 6.5,\n",
    "            \"angles\": [np.deg2rad(i) for i in [0, 30, 90, 150, 180, 240, 270, 330]],\n",
    "            \"HU\": [0, 1950, 1350, 1135, 0, 965, 915, 820],\n",
    "            \"M\": [\"air\", \"Teflon\", \"Delrin\", \"Acrylic\", \"vial-H2O\", \"Polystylrene\", \"LDPE\", \"PMP\"]\n",
    "        },\n",
    "        \"pix\": {\n",
    "            \"R\": 25*np.sqrt(2), \"r\": 1.5,\n",
    "            \"angles\": [np.deg2rad(i) for i in [45, 135, 225, 315]],\n",
    "            \"HU\": [1950, 0, 0, 0],\n",
    "            \"M\": [\"Teflon\"] + 3*[\"hole\"]\n",
    "        },\n",
    "        \"cen\": {\n",
    "            \"R\": 15, \"r\": [5, 1, 2, 3, 4],\n",
    "            \"angles\": [np.deg2rad(i*360/5) for i in range(5)],\n",
    "            \"HU\": 1135\n",
    "        }\n",
    "    }\n",
    "}\n"
   ]
  },
  {
   "cell_type": "code",
   "execution_count": 5,
   "metadata": {},
   "outputs": [],
   "source": [
    "\n",
    "def draw_img(arr_img, phantom, pspace):\n",
    "    for key, value in phantom.items():\n",
    "        if key in [\"edge\", \"main\"]:\n",
    "            r = value[\"r\"]/pspace\n",
    "            for row in range(len(arr_img)):\n",
    "                for col in range(len(arr_img[0])):\n",
    "                    if (row - len(arr_img)/2)**2 + (col - len(arr_img[0])/2)**2 <= r**2:\n",
    "                        arr_img[row][col] = value[\"HU\"]\n",
    "        else :\n",
    "            for m in range(len(value[\"angles\"])):\n",
    "                r = 0.0\n",
    "                if key == \"cen\":\n",
    "                    r = value[\"r\"][m]/pspace\n",
    "                    HU = value[\"HU\"]\n",
    "                else:\n",
    "                    HU = value[\"HU\"][m]\n",
    "                    r = value[\"r\"]/pspace\n",
    "                \n",
    "                R = value[\"R\"]/pspace\n",
    "                for row in range(len(arr_img)):\n",
    "                    for col in range(len(arr_img[0])):\n",
    "                        if (row + R*np.cos(value[\"angles\"][m]) - len(arr_img)/2)**2 +\\\n",
    "                            (col - R*np.sin(value[\"angles\"][m]) - len(arr_img[0])/2)**2 <=\\\n",
    "                                r**2:\n",
    "                            arr_img[row][col] = HU"
   ]
  },
  {
   "cell_type": "code",
   "execution_count": 6,
   "metadata": {},
   "outputs": [],
   "source": [
    "def get_fdcm(file_path):\n",
    "    ds = pydicom.dcmread(file_path)\n",
    "    return ds\n",
    "ds = get_fdcm('/home/g0/Projects/singlechip-pct/image/dicom/catphan600/xct/CT.1.2.840.113704.1.111.4484.1506491899.1946.dcm')"
   ]
  },
  {
   "cell_type": "code",
   "execution_count": 7,
   "metadata": {},
   "outputs": [],
   "source": [
    "arr_img = np.zeros(im_size)\n",
    "arr_img_hq = np.zeros((im_size[0]*4, im_size[0]*4))\n",
    "draw_img(arr_img, phantom_data[\"catphan600\"], ds.PixelSpacing[0])\n",
    "draw_img(arr_img_hq, phantom_data[\"catphan600\"], ds.PixelSpacing[0]/4)"
   ]
  },
  {
   "cell_type": "code",
   "execution_count": 8,
   "metadata": {},
   "outputs": [],
   "source": [
    "arr_img_rehq = resize(arr_img_hq, (512, 512), preserve_range=True, anti_aliasing=True)"
   ]
  },
  {
   "cell_type": "code",
   "execution_count": 9,
   "metadata": {},
   "outputs": [],
   "source": [
    "# plt.figure(figsize=(15, 15))\n",
    "# plt.imshow(arr_img_rehq, cmap='gray')"
   ]
  },
  {
   "cell_type": "code",
   "execution_count": 52,
   "metadata": {},
   "outputs": [],
   "source": [
    "def arrimg2_3d(arr, h=0):\n",
    "    if h:\n",
    "        return np.array([arr.copy() for i in range(h)])\n",
    "    else:\n",
    "        return arr.copy()\n",
    "    \n",
    "def get_imgitk(arr):\n",
    "    return sitk.GetImageFromArray(arr)\n",
    "\n",
    "def save_bimg(arr_img, fname):\n",
    "    fpath = \"./output/\"\n",
    "    f = open(fpath + fname + '.png', 'wb')\n",
    "    byte_array = bytearray(arr_img)\n",
    "    f.write(byte_array)\n",
    "    f.close()\n",
    "    \n",
    "def read_bim(fpath):\n",
    "    input_file = open(fpath, 'rb')\n",
    "    array = input_file.read()\n",
    "    array = np.frombuffer(array)\n",
    "    return array"
   ]
  },
  {
   "cell_type": "code",
   "execution_count": 43,
   "metadata": {},
   "outputs": [],
   "source": [
    "save_bimg(arr_img, \"arr_img\")\n",
    "save_bimg(arr_img_hq, \"arr_img_hq\")\n",
    "save_bimg(arr_img_rehq, \"arr_img_rehq\")\n",
    "# itk_img = get_imgitk(arr_img_hq)\n",
    "# arr_img_hq_3d = arrimg2_3d(arr_img_hq, 1024)\n",
    "# itk_img2 = get_imgitk(arr_img_hq_3d)"
   ]
  },
  {
   "cell_type": "code",
   "execution_count": 87,
   "metadata": {},
   "outputs": [
    {
     "name": "stdout",
     "output_type": "stream",
     "text": [
      "(262144,)\n"
     ]
    }
   ],
   "source": [
    "arr = read_bim(\"/home/g0/Projects/singlechip-pct/phantom/mhd/output/arr_img_rehq.png\")\n",
    "print(arr.shape)\n",
    "arr_2 = np.reshape(arr, (-1, 512))\n",
    "arr_img_3d = arrimg2_3d(arr_2, 128)"
   ]
  },
  {
   "cell_type": "code",
   "execution_count": 80,
   "metadata": {},
   "outputs": [],
   "source": [
    "# plt.figure(figsize = (15, 15))\n",
    "# plt.imshow(new_itk_img_array[100], cmap='gray')"
   ]
  },
  {
   "cell_type": "code",
   "execution_count": 94,
   "metadata": {},
   "outputs": [],
   "source": [
    "itk_img = get_imgitk(arr_img_3d)\n",
    "itk_img.SetSpacing(3*[ds.PixelSpacing[0]])\n",
    "sitk.WriteImage(itk_img, 'output/mhd/catphan404/img.mhd')\n"
   ]
  },
  {
   "cell_type": "code",
   "execution_count": 89,
   "metadata": {},
   "outputs": [],
   "source": [
    "new_itk_img_array = sitk.GetImageFromArray([arr_img_3d[:, :, i] for i in range(len(arr_img_3d[0, 0, :]))])"
   ]
  },
  {
   "cell_type": "code",
   "execution_count": 90,
   "metadata": {},
   "outputs": [
    {
     "name": "stderr",
     "output_type": "stream",
     "text": [
      "OpenJDK 64-Bit Server VM warning: ignoring option PermSize=128m; support was removed in 8.0\n",
      "OpenJDK 64-Bit Server VM warning: Using incremental CMS is deprecated and will likely be removed in a future release\n"
     ]
    },
    {
     "name": "stdout",
     "output_type": "stream",
     "text": [
      "[INFO] Detected existing ImageJ; passing arguments along\n"
     ]
    }
   ],
   "source": [
    "sitk.Show(new_itk_img_array, 'sample image')"
   ]
  },
  {
   "cell_type": "code",
   "execution_count": null,
   "metadata": {},
   "outputs": [],
   "source": []
  },
  {
   "cell_type": "code",
   "execution_count": null,
   "metadata": {},
   "outputs": [],
   "source": []
  }
 ],
 "metadata": {
  "kernelspec": {
   "display_name": "Python 3.8.10 ('pct')",
   "language": "python",
   "name": "python3"
  },
  "language_info": {
   "codemirror_mode": {
    "name": "ipython",
    "version": 3
   },
   "file_extension": ".py",
   "mimetype": "text/x-python",
   "name": "python",
   "nbconvert_exporter": "python",
   "pygments_lexer": "ipython3",
   "version": "3.8.10"
  },
  "orig_nbformat": 4,
  "vscode": {
   "interpreter": {
    "hash": "5531f21dd00092f5c0317ca2303f1466f3e721433f553dd66b3a4a7cf00a0364"
   }
  }
 },
 "nbformat": 4,
 "nbformat_minor": 2
}
